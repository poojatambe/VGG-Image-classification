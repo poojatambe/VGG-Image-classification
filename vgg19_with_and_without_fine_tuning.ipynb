{
  "nbformat": 4,
  "nbformat_minor": 0,
  "metadata": {
    "colab": {
      "name": "vgg19_with_and_without_fine_tuning.ipynb",
      "provenance": [],
      "mount_file_id": "1hX1iwOeQb9hp02CcDQpUhoBfFt4s5oVp",
      "authorship_tag": "ABX9TyNUh1j8Ds9UNZ4iUHHTG2bb",
      "include_colab_link": true
    },
    "kernelspec": {
      "name": "python3",
      "display_name": "Python 3"
    },
    "language_info": {
      "name": "python"
    },
    "accelerator": "GPU"
  },
  "cells": [
    {
      "cell_type": "markdown",
      "metadata": {
        "id": "view-in-github",
        "colab_type": "text"
      },
      "source": [
        "<a href=\"https://colab.research.google.com/github/poojatambe/VGG-Image-classification/blob/main/vgg19_with_and_without_fine_tuning.ipynb\" target=\"_parent\"><img src=\"https://colab.research.google.com/assets/colab-badge.svg\" alt=\"Open In Colab\"/></a>"
      ]
    },
    {
      "cell_type": "markdown",
      "source": [
        "## Import libraries"
      ],
      "metadata": {
        "id": "pur5y0C8Vw9F"
      }
    },
    {
      "cell_type": "code",
      "source": [
        "!pip install livelossplot"
      ],
      "metadata": {
        "id": "e1is28uY-3cx"
      },
      "execution_count": null,
      "outputs": []
    },
    {
      "cell_type": "code",
      "source": [
        "from keras.applications.vgg19 import VGG19\n",
        "import os\n",
        "import glob\n",
        "import pandas as pd\n",
        "import cv2\n",
        "import matplotlib.pyplot as plt\n",
        "import numpy as np\n",
        "from keras.models import Model\n",
        "import tensorflow as tf\n",
        "from tensorflow.keras.optimizers import Adam\n",
        "from keras.applications.vgg19 import preprocess_input\n",
        "from keras.preprocessing.image import ImageDataGenerator\n",
        "from keras.callbacks import ModelCheckpoint, EarlyStopping\n",
        "from keras.layers import Dense, Dropout, Flatten\n",
        "from livelossplot.inputs.keras import PlotLossesCallback"
      ],
      "metadata": {
        "id": "hYWH9lRc-UlT"
      },
      "execution_count": 1,
      "outputs": []
    },
    {
      "cell_type": "code",
      "source": [
        "!nvidia-smi"
      ],
      "metadata": {
        "colab": {
          "base_uri": "https://localhost:8080/"
        },
        "id": "yn7mneGi-bUY",
        "outputId": "d15e6bab-c12c-454d-c286-366dc0b84966"
      },
      "execution_count": 2,
      "outputs": [
        {
          "output_type": "stream",
          "name": "stdout",
          "text": [
            "Sun May  8 16:05:04 2022       \n",
            "+-----------------------------------------------------------------------------+\n",
            "| NVIDIA-SMI 460.32.03    Driver Version: 460.32.03    CUDA Version: 11.2     |\n",
            "|-------------------------------+----------------------+----------------------+\n",
            "| GPU  Name        Persistence-M| Bus-Id        Disp.A | Volatile Uncorr. ECC |\n",
            "| Fan  Temp  Perf  Pwr:Usage/Cap|         Memory-Usage | GPU-Util  Compute M. |\n",
            "|                               |                      |               MIG M. |\n",
            "|===============================+======================+======================|\n",
            "|   0  Tesla T4            Off  | 00000000:00:04.0 Off |                    0 |\n",
            "| N/A   35C    P8     9W /  70W |      0MiB / 15109MiB |      0%      Default |\n",
            "|                               |                      |                  N/A |\n",
            "+-------------------------------+----------------------+----------------------+\n",
            "                                                                               \n",
            "+-----------------------------------------------------------------------------+\n",
            "| Processes:                                                                  |\n",
            "|  GPU   GI   CI        PID   Type   Process name                  GPU Memory |\n",
            "|        ID   ID                                                   Usage      |\n",
            "|=============================================================================|\n",
            "|  No running processes found                                                 |\n",
            "+-----------------------------------------------------------------------------+\n"
          ]
        }
      ]
    },
    {
      "cell_type": "markdown",
      "source": [
        "## Data preparation"
      ],
      "metadata": {
        "id": "uMXjyhzpV1WN"
      }
    },
    {
      "cell_type": "code",
      "source": [
        "!unzip '/content/drive/MyDrive/vgg/seg_test.zip' -d '/content'\n",
        "!unzip '/content/drive/MyDrive/vgg/seg_train.zip' -d '/content'"
      ],
      "metadata": {
        "id": "6dHZlhGu_nZS"
      },
      "execution_count": null,
      "outputs": []
    },
    {
      "cell_type": "code",
      "source": [
        "no_traindata={}\n",
        "no_testdata={}\n",
        "\n",
        "# train and test directories\n",
        "train_1= glob.glob('/content/seg_train/*')\n",
        "test_1= glob.glob('/content/seg_test/*')\n",
        "\n",
        "for i in train_1:\n",
        "    #print(glob.glob(str(i)+\"\\*\")[0:5])\n",
        "    no_traindata[i]= len(glob.glob(str(i)+\"/*\"))\n",
        "\n",
        "#print(no_traindata)\n",
        "\n",
        "for i in test_1:\n",
        "    #print(glob.glob(str(i)+\"\\*\")[0:5])\n",
        "    no_testdata[i]= len(glob.glob(str(i)+\"/*\"))\n",
        "\n",
        "#print(no_testdata)\n",
        "\n",
        "train_df= pd.DataFrame(no_traindata.items(), columns=['class', 'no_img'])\n",
        "print(train_df)\n",
        "\n",
        "test_df= pd.DataFrame(no_testdata.items(), columns=['class', 'no_img'])\n",
        "print(test_df)\n",
        "\n",
        "#visualise data\n",
        "plt.figure(figsize=(10,10))\n",
        "plt.barh(train_df['class'], train_df['no_img'], label='train')\n",
        "plt.barh(train_df['class'], test_df['no_img'], color='r', label='test')\n",
        "plt.show()"
      ],
      "metadata": {
        "colab": {
          "base_uri": "https://localhost:8080/",
          "height": 835
        },
        "id": "BQlwXVKH_Jwm",
        "outputId": "121c6715-124f-4a97-84cb-ec695e80d414"
      },
      "execution_count": 4,
      "outputs": [
        {
          "output_type": "stream",
          "name": "stdout",
          "text": [
            "                          class  no_img\n",
            "0        /content/seg_train/sea    1242\n",
            "1  /content/seg_train/buildings    1183\n",
            "2   /content/seg_train/mountain    1480\n",
            "3     /content/seg_train/forest    1239\n",
            "4    /content/seg_train/glacier    1372\n",
            "5     /content/seg_train/street    1350\n",
            "                         class  no_img\n",
            "0        /content/seg_test/sea     510\n",
            "1  /content/seg_test/buildings     437\n",
            "2   /content/seg_test/mountain     525\n",
            "3     /content/seg_test/forest     474\n",
            "4    /content/seg_test/glacier     553\n",
            "5     /content/seg_test/street     501\n"
          ]
        },
        {
          "output_type": "display_data",
          "data": {
            "text/plain": [
              "<Figure size 720x720 with 1 Axes>"
            ],
            "image/png": "[encoded data removed]"
          },
          "metadata": {
            "needs_background": "light"
          }
        }
      ]
    },
    {
      "cell_type": "code",
      "source": [
        "#  data augmentation using ImageDataGenerator\n",
        "BATCH_SIZE = 64\n",
        "\n",
        "\n",
        "train_generator = ImageDataGenerator(rotation_range=90, \n",
        "                                     brightness_range=[0.1, 0.7],\n",
        "                                     width_shift_range=0.5, \n",
        "                                     height_shift_range=0.5,\n",
        "                                     horizontal_flip=True, \n",
        "                                     vertical_flip=True,\n",
        "                                     validation_split=0.15,\n",
        "                                     preprocessing_function=preprocess_input) # VGG19 preprocessing\n",
        "\n",
        "test_generator = ImageDataGenerator(preprocessing_function=preprocess_input) # VGG19 preprocessing\n",
        "\n",
        "\n",
        "#data preparation\n",
        "traingen = train_generator.flow_from_directory('/content/seg_train',\n",
        "                                               target_size=(224, 224),\n",
        "                                               class_mode='categorical',\n",
        "                                               subset='training',\n",
        "                                               batch_size=BATCH_SIZE, \n",
        "                                               shuffle=True,\n",
        "                                               seed=42)\n",
        "\n",
        "validgen = train_generator.flow_from_directory('/content/seg_train',\n",
        "                                               target_size=(224, 224),\n",
        "                                               class_mode='categorical',\n",
        "                                               subset='validation',\n",
        "                                               batch_size=BATCH_SIZE,\n",
        "                                               shuffle=True,\n",
        "                                               seed=42)\n",
        "\n",
        "testgen = test_generator.flow_from_directory('/content/seg_test',\n",
        "                                             target_size=(224, 224),\n",
        "                                             class_mode=None,\n",
        "                                             batch_size=1,\n",
        "                                             shuffle=False,\n",
        "                                             seed=42)"
      ],
      "metadata": {
        "colab": {
          "base_uri": "https://localhost:8080/"
        },
        "id": "v3WDePfbPuj-",
        "outputId": "8a37df47-758a-455d-e2b5-8782bf91706b"
      },
      "execution_count": 5,
      "outputs": [
        {
          "output_type": "stream",
          "name": "stdout",
          "text": [
            "Found 6689 images belonging to 6 classes.\n",
            "Found 1177 images belonging to 6 classes.\n",
            "Found 3000 images belonging to 6 classes.\n"
          ]
        }
      ]
    },
    {
      "cell_type": "markdown",
      "source": [
        "# Classification model function\n",
        "\n",
        "\n",
        "\n",
        "*  Pre-trained Vgg 19 model is used as base model. Using Include_top=False, last fully connected layers are excluded.\n",
        "*   Output of the base model is given to dense layers which are specified according to new dataset.\n",
        "\n",
        "*   the fine_tune parameter is used to freeze layers of the base model.\n",
        "\n",
        "\n",
        "\n"
      ],
      "metadata": {
        "id": "1KJERF4GV8kt"
      }
    },
    {
      "cell_type": "code",
      "source": [
        "# transfer learning without fine tuning\n",
        "def model(input_shape, n_classes, optimizer='adam', fine_tune=0):\n",
        "    \"\"\"\n",
        "    Complies a model integrated with vgg16 pretrained layers\n",
        "\n",
        "    Parameters\n",
        "    ------------------------\n",
        "    input_shape: tuple\n",
        "    shape of input images (width, height, channels)\n",
        "    n_classes: int\n",
        "    Number of classes for output layer\n",
        "    optimizer: string\n",
        "    Instantiated optimizer for training, default to adam\n",
        "    fine_tune: int\n",
        "    No of pretrained layers to unfreeze.\n",
        "    If set to 0, all layers will freeze during training\n",
        "\n",
        "    Return\n",
        "    -------------------------------\n",
        "    model: compiled model\n",
        "\n",
        "    \"\"\"\n",
        "    \n",
        "    # pretrained layers are added. Include_top is set to false, in order to exclude model's fully connected layers.\n",
        "    conv_base = VGG19(weights='imagenet',\n",
        "                    include_top= False,\n",
        "                    input_shape=input_shape)\n",
        "    \n",
        "    # Defines how many layers to freeze.\n",
        "    # Layers in conv_base are changed from trainable to non-trainable based on fine_tune value. \n",
        "    if fine_tune > 0:\n",
        "        for layer in conv_base.layers[:-fine_tune]:\n",
        "            layer.trainable = False\n",
        "\n",
        "    else:\n",
        "        for layer in conv_base.layers:\n",
        "            layer.trainable =False\n",
        "                \n",
        "    # create fully-connected layers\n",
        "    top_model= conv_base.output\n",
        "    top_model= Flatten(name='flatten')(top_model)                \n",
        "    top_model= Dense(4096, activation='relu')(top_model)\n",
        "    top_model= Dense(1072, activation='relu')(top_model)\n",
        "    top_model= Dropout(0.2)(top_model)\n",
        "    output_layer= Dense(n_classes, activation='softmax')(top_model)\n",
        "\n",
        "    # group pretrained layers and fully connected layers.\n",
        "    model= Model(inputs= conv_base.input, outputs= output_layer)\n",
        "\n",
        "    #complies model \n",
        "    model.compile(optimizer=optimizer,\n",
        "                loss='categorical_crossentropy',\n",
        "                metrics=['accuracy'])\n",
        "    \n",
        "    return model"
      ],
      "metadata": {
        "id": "FFewMQM8P5qV"
      },
      "execution_count": 6,
      "outputs": []
    },
    {
      "cell_type": "code",
      "source": [
        "\n",
        "# Model without fine tuning\n",
        "input_shape = (224, 224, 3)\n",
        "optim_1 = Adam(learning_rate=0.0001)\n",
        "n_classes=6\n",
        "\n",
        "n_steps = traingen.samples // BATCH_SIZE\n",
        "n_val_steps = validgen.samples // BATCH_SIZE\n",
        "n_epochs = 10\n",
        "print('Steps', n_steps, n_val_steps)\n",
        "\n",
        "# First we'll train the model without Fine-tuning\n",
        "vgg_model = model(input_shape, n_classes, optim_1, fine_tune=0)\n",
        "\n",
        "# summary of the model\n",
        "vgg_model.summary()"
      ],
      "metadata": {
        "colab": {
          "base_uri": "https://localhost:8080/"
        },
        "id": "GmzP2_SBQR-w",
        "outputId": "b9b90408-ef5c-4772-c079-57582c08a53c"
      },
      "execution_count": null,
      "outputs": [
        {
          "output_type": "stream",
          "name": "stdout",
          "text": [
            "Steps 104 18\n",
            "Downloading data from https://storage.googleapis.com/tensorflow/keras-applications/vgg19/vgg19_weights_tf_dim_ordering_tf_kernels_notop.h5\n",
            "80142336/80134624 [==============================] - 1s 0us/step\n",
            "80150528/80134624 [==============================] - 1s 0us/step\n",
            "Model: \"model\"\n",
            "_________________________________________________________________\n",
            " Layer (type)                Output Shape              Param #   \n",
            "=================================================================\n",
            " input_1 (InputLayer)        [(None, 224, 224, 3)]     0         \n",
            "                                                                 \n",
            " block1_conv1 (Conv2D)       (None, 224, 224, 64)      1792      \n",
            "                                                                 \n",
            " block1_conv2 (Conv2D)       (None, 224, 224, 64)      36928     \n",
            "                                                                 \n",
            " block1_pool (MaxPooling2D)  (None, 112, 112, 64)      0         \n",
            "                                                                 \n",
            " block2_conv1 (Conv2D)       (None, 112, 112, 128)     73856     \n",
            "                                                                 \n",
            " block2_conv2 (Conv2D)       (None, 112, 112, 128)     147584    \n",
            "                                                                 \n",
            " block2_pool (MaxPooling2D)  (None, 56, 56, 128)       0         \n",
            "                                                                 \n",
            " block3_conv1 (Conv2D)       (None, 56, 56, 256)       295168    \n",
            "                                                                 \n",
            " block3_conv2 (Conv2D)       (None, 56, 56, 256)       590080    \n",
            "                                                                 \n",
            " block3_conv3 (Conv2D)       (None, 56, 56, 256)       590080    \n",
            "                                                                 \n",
            " block3_conv4 (Conv2D)       (None, 56, 56, 256)       590080    \n",
            "                                                                 \n",
            " block3_pool (MaxPooling2D)  (None, 28, 28, 256)       0         \n",
            "                                                                 \n",
            " block4_conv1 (Conv2D)       (None, 28, 28, 512)       1180160   \n",
            "                                                                 \n",
            " block4_conv2 (Conv2D)       (None, 28, 28, 512)       2359808   \n",
            "                                                                 \n",
            " block4_conv3 (Conv2D)       (None, 28, 28, 512)       2359808   \n",
            "                                                                 \n",
            " block4_conv4 (Conv2D)       (None, 28, 28, 512)       2359808   \n",
            "                                                                 \n",
            " block4_pool (MaxPooling2D)  (None, 14, 14, 512)       0         \n",
            "                                                                 \n",
            " block5_conv1 (Conv2D)       (None, 14, 14, 512)       2359808   \n",
            "                                                                 \n",
            " block5_conv2 (Conv2D)       (None, 14, 14, 512)       2359808   \n",
            "                                                                 \n",
            " block5_conv3 (Conv2D)       (None, 14, 14, 512)       2359808   \n",
            "                                                                 \n",
            " block5_conv4 (Conv2D)       (None, 14, 14, 512)       2359808   \n",
            "                                                                 \n",
            " block5_pool (MaxPooling2D)  (None, 7, 7, 512)         0         \n",
            "                                                                 \n",
            " flatten (Flatten)           (None, 25088)             0         \n",
            "                                                                 \n",
            " dense (Dense)               (None, 4096)              102764544 \n",
            "                                                                 \n",
            " dense_1 (Dense)             (None, 1072)              4391984   \n",
            "                                                                 \n",
            " dropout (Dropout)           (None, 1072)              0         \n",
            "                                                                 \n",
            " dense_2 (Dense)             (None, 6)                 6438      \n",
            "                                                                 \n",
            "=================================================================\n",
            "Total params: 127,187,350\n",
            "Trainable params: 107,162,966\n",
            "Non-trainable params: 20,024,384\n",
            "_________________________________________________________________\n"
          ]
        }
      ]
    },
    {
      "cell_type": "code",
      "execution_count": null,
      "metadata": {
        "colab": {
          "base_uri": "https://localhost:8080/",
          "height": 706
        },
        "id": "XR61C5fB5zWB",
        "outputId": "e3fa8acb-713b-43fb-fec4-19a53cb37388"
      },
      "outputs": [
        {
          "output_type": "display_data",
          "data": {
            "text/plain": [
              "<Figure size 864x576 with 2 Axes>"
            ],
            "image/png": "[encoded data removed]"
          },
          "metadata": {
            "needs_background": "light"
          }
        },
        {
          "output_type": "stream",
          "name": "stdout",
          "text": [
            "accuracy\n",
            "\ttraining         \t (min:    0.587, max:    0.769, cur:    0.768)\n",
            "\tvalidation       \t (min:    0.701, max:    0.784, cur:    0.778)\n",
            "Loss\n",
            "\ttraining         \t (min:    0.597, max:    2.079, cur:    0.606)\n",
            "\tvalidation       \t (min:    0.590, max:    0.840, cur:    0.590)\n",
            "\b\b\b\b\b\b\b\b\b\b\b\b\b\b\b\b\b\b\b\b\b\b\b\b\b\b\b\b\b\b\b\b\b\b\b\b\b\b\b\b\b\b\b\b\b\b\b\b\b\b\b\b\b\b\b\b\b\b\b\b\b\b\b\b\b\b\b\b\b\b\b\b\b\b\b\b\b\b\b\b\b\b\b\b\r104/104 [==============================] - 154s 1s/step - loss: 0.6061 - accuracy: 0.7685 - val_loss: 0.5905 - val_accuracy: 0.7778\n"
          ]
        }
      ],
      "source": [
        "\n",
        "\n",
        "# callbacks\n",
        "\n",
        "plot_loss_1 = PlotLossesCallback()\n",
        "\n",
        "# ModelCheckpoint callback - save best weights\n",
        "tl_checkpoint_1 = ModelCheckpoint(filepath='/content/drive/MyDrive/vgg/model_feature19.weights.best.hdf5',\n",
        "                                  save_best_only=True,\n",
        "                                  verbose=1)\n",
        "\n",
        "# EarlyStopping\n",
        "early_stop = EarlyStopping(monitor='val_loss',\n",
        "                           patience=3,\n",
        "                           restore_best_weights=True,\n",
        "                           mode='min')\n",
        "# tensorboard\n",
        "#tb_callback= tf.keras.callbacks.TensorBoard(log_dir='logs')\n",
        "\n",
        "\n",
        "# model training\n",
        "vgg_history = vgg_model.fit(traingen,\n",
        "                            batch_size=BATCH_SIZE,\n",
        "                            epochs=n_epochs,\n",
        "                            validation_data=validgen,\n",
        "                            steps_per_epoch=n_steps,\n",
        "                            validation_steps=n_val_steps,\n",
        "                            callbacks=[tl_checkpoint_1, early_stop, plot_loss_1],\n",
        "                            verbose=1)                           \n",
        "\n",
        "    \n",
        "\n"
      ]
    },
    {
      "cell_type": "code",
      "source": [
        "# Load the TensorBoard notebook extension\n",
        "#%load_ext tensorboard\n",
        "#%tensorboard --logdir logs"
      ],
      "metadata": {
        "id": "YXDtjrrcQdaC"
      },
      "execution_count": null,
      "outputs": []
    },
    {
      "cell_type": "code",
      "source": [
        "# Generate predictions\n",
        "vgg_model.load_weights('/content/drive/MyDrive/vgg/model_feature19.weights.best.hdf5') # initialize the best trained weights\n",
        "\n",
        "true_classes = testgen.classes\n",
        "class_indices = traingen.class_indices\n",
        "class_indices = dict((v,k) for k,v in class_indices.items())\n",
        "\n",
        "vgg_preds = vgg_model.predict(testgen)\n",
        "vgg_pred_classes = np.argmax(vgg_preds, axis=1)"
      ],
      "metadata": {
        "id": "OIT6e5bjL587"
      },
      "execution_count": null,
      "outputs": []
    },
    {
      "cell_type": "code",
      "source": [
        "from sklearn.metrics import accuracy_score\n",
        "\n",
        "vgg_acc = accuracy_score(true_classes, vgg_pred_classes)\n",
        "print(\"VGG19 Model Accuracy without Fine-Tuning: {:.2f}%\".format(vgg_acc * 100))"
      ],
      "metadata": {
        "colab": {
          "base_uri": "https://localhost:8080/"
        },
        "id": "Kgjl8jlkOJqY",
        "outputId": "b2431648-41db-416c-8f50-9e9e4b552b88"
      },
      "execution_count": null,
      "outputs": [
        {
          "output_type": "stream",
          "name": "stdout",
          "text": [
            "VGG19 Model Accuracy without Fine-Tuning: 87.30%\n"
          ]
        }
      ]
    },
    {
      "cell_type": "markdown",
      "source": [
        "# Fine tuning\n",
        "The fine_tune is set to 2, which unfreezes last 2 layers and these layers are used in training model on new data. "
      ],
      "metadata": {
        "id": "XC3kSqvGZY38"
      }
    },
    {
      "cell_type": "code",
      "source": [
        "# Reset our image data generators\n",
        "traingen.reset()\n",
        "validgen.reset()\n",
        "testgen.reset()\n",
        "\n",
        "n_steps = traingen.samples // BATCH_SIZE\n",
        "n_val_steps = validgen.samples // BATCH_SIZE\n",
        "n_epochs = 10\n",
        "print('Steps', n_steps, n_val_steps)\n",
        "\n",
        "\n",
        "input_shape = (224, 224, 3)\n",
        "n_classes= 6\n",
        "# Use a smaller learning rate\n",
        "optim_2 = Adam(learning_rate=0.0001)\n",
        "\n",
        "# Re-compile the model, this time leaving the last 2 layers unfrozen for Fine-Tuning\n",
        "vgg_model_ft = model(input_shape, n_classes, optim_2, fine_tune=2)\n",
        "\n",
        "#model summary\n",
        "vgg_model_ft.summary()"
      ],
      "metadata": {
        "colab": {
          "base_uri": "https://localhost:8080/"
        },
        "outputId": "d922667d-033f-42c0-b458-21098d75513b",
        "id": "riMmNo84aANk"
      },
      "execution_count": 7,
      "outputs": [
        {
          "output_type": "stream",
          "name": "stdout",
          "text": [
            "Steps 104 18\n",
            "Downloading data from https://storage.googleapis.com/tensorflow/keras-applications/vgg19/vgg19_weights_tf_dim_ordering_tf_kernels_notop.h5\n",
            "80142336/80134624 [==============================] - 0s 0us/step\n",
            "80150528/80134624 [==============================] - 0s 0us/step\n",
            "Model: \"model\"\n",
            "_________________________________________________________________\n",
            " Layer (type)                Output Shape              Param #   \n",
            "=================================================================\n",
            " input_1 (InputLayer)        [(None, 224, 224, 3)]     0         \n",
            "                                                                 \n",
            " block1_conv1 (Conv2D)       (None, 224, 224, 64)      1792      \n",
            "                                                                 \n",
            " block1_conv2 (Conv2D)       (None, 224, 224, 64)      36928     \n",
            "                                                                 \n",
            " block1_pool (MaxPooling2D)  (None, 112, 112, 64)      0         \n",
            "                                                                 \n",
            " block2_conv1 (Conv2D)       (None, 112, 112, 128)     73856     \n",
            "                                                                 \n",
            " block2_conv2 (Conv2D)       (None, 112, 112, 128)     147584    \n",
            "                                                                 \n",
            " block2_pool (MaxPooling2D)  (None, 56, 56, 128)       0         \n",
            "                                                                 \n",
            " block3_conv1 (Conv2D)       (None, 56, 56, 256)       295168    \n",
            "                                                                 \n",
            " block3_conv2 (Conv2D)       (None, 56, 56, 256)       590080    \n",
            "                                                                 \n",
            " block3_conv3 (Conv2D)       (None, 56, 56, 256)       590080    \n",
            "                                                                 \n",
            " block3_conv4 (Conv2D)       (None, 56, 56, 256)       590080    \n",
            "                                                                 \n",
            " block3_pool (MaxPooling2D)  (None, 28, 28, 256)       0         \n",
            "                                                                 \n",
            " block4_conv1 (Conv2D)       (None, 28, 28, 512)       1180160   \n",
            "                                                                 \n",
            " block4_conv2 (Conv2D)       (None, 28, 28, 512)       2359808   \n",
            "                                                                 \n",
            " block4_conv3 (Conv2D)       (None, 28, 28, 512)       2359808   \n",
            "                                                                 \n",
            " block4_conv4 (Conv2D)       (None, 28, 28, 512)       2359808   \n",
            "                                                                 \n",
            " block4_pool (MaxPooling2D)  (None, 14, 14, 512)       0         \n",
            "                                                                 \n",
            " block5_conv1 (Conv2D)       (None, 14, 14, 512)       2359808   \n",
            "                                                                 \n",
            " block5_conv2 (Conv2D)       (None, 14, 14, 512)       2359808   \n",
            "                                                                 \n",
            " block5_conv3 (Conv2D)       (None, 14, 14, 512)       2359808   \n",
            "                                                                 \n",
            " block5_conv4 (Conv2D)       (None, 14, 14, 512)       2359808   \n",
            "                                                                 \n",
            " block5_pool (MaxPooling2D)  (None, 7, 7, 512)         0         \n",
            "                                                                 \n",
            " flatten (Flatten)           (None, 25088)             0         \n",
            "                                                                 \n",
            " dense (Dense)               (None, 4096)              102764544 \n",
            "                                                                 \n",
            " dense_1 (Dense)             (None, 1072)              4391984   \n",
            "                                                                 \n",
            " dropout (Dropout)           (None, 1072)              0         \n",
            "                                                                 \n",
            " dense_2 (Dense)             (None, 6)                 6438      \n",
            "                                                                 \n",
            "=================================================================\n",
            "Total params: 127,187,350\n",
            "Trainable params: 109,522,774\n",
            "Non-trainable params: 17,664,576\n",
            "_________________________________________________________________\n"
          ]
        }
      ]
    },
    {
      "cell_type": "code",
      "source": [
        "# callbacks\n",
        "\n",
        "plot_loss_2 = PlotLossesCallback()\n",
        "\n",
        "# ModelCheckpoint callback - save best weights\n",
        "tl_checkpoint_1 = ModelCheckpoint(filepath='/content/drive/MyDrive/vgg/tune_model19.weights.best.hdf5',\n",
        "                                  save_best_only=True,\n",
        "                                  verbose=1)\n",
        "\n",
        "# EarlyStopping\n",
        "early_stop = EarlyStopping(monitor='val_loss',\n",
        "                           patience=3,\n",
        "                           restore_best_weights=True,\n",
        "                           mode='min')\n",
        "\n",
        "# tensorboard\n",
        "#tb_callback= tf.keras.callbacks.TensorBoard(log_dir='logs/tune')\n",
        "\n",
        "# Retrain model with fine-tuning\n",
        "vgg_ft_history = vgg_model_ft.fit(traingen,\n",
        "                                  batch_size=BATCH_SIZE,\n",
        "                                  epochs=n_epochs,\n",
        "                                  validation_data=validgen,\n",
        "                                  steps_per_epoch=n_steps, \n",
        "                                  validation_steps=n_val_steps,\n",
        "                                  callbacks=[tl_checkpoint_1, early_stop,plot_loss_2],\n",
        "                                  verbose=1)"
      ],
      "metadata": {
        "colab": {
          "base_uri": "https://localhost:8080/",
          "height": 706
        },
        "id": "y-Foy5Liy2YR",
        "outputId": "86611490-724b-4fcb-da03-b8ca727517fa"
      },
      "execution_count": 8,
      "outputs": [
        {
          "output_type": "display_data",
          "data": {
            "text/plain": [
              "<Figure size 864x576 with 2 Axes>"
            ],
            "image/png": "[encoded data removed]"
          },
          "metadata": {
            "needs_background": "light"
          }
        },
        {
          "output_type": "stream",
          "name": "stdout",
          "text": [
            "accuracy\n",
            "\ttraining         \t (min:    0.609, max:    0.818, cur:    0.818)\n",
            "\tvalidation       \t (min:    0.735, max:    0.825, cur:    0.820)\n",
            "Loss\n",
            "\ttraining         \t (min:    0.476, max:    1.840, cur:    0.476)\n",
            "\tvalidation       \t (min:    0.498, max:    0.774, cur:    0.498)\n",
            "\b\b\b\b\b\b\b\b\b\b\b\b\b\b\b\b\b\b\b\b\b\b\b\b\b\b\b\b\b\b\b\b\b\b\b\b\b\b\b\b\b\b\b\b\b\b\b\b\b\b\b\b\b\b\b\b\b\b\b\b\b\b\b\b\b\b\b\b\b\b\b\b\b\b\b\b\b\b\b\b\b\b\b\b\r104/104 [==============================] - 129s 1s/step - loss: 0.4758 - accuracy: 0.8175 - val_loss: 0.4979 - val_accuracy: 0.8203\n"
          ]
        }
      ]
    },
    {
      "cell_type": "code",
      "source": [
        "# Generate predictions\n",
        "vgg_model_ft.load_weights('/content/drive/MyDrive/vgg/tune_model19.weights.best.hdf5') # initialize the best trained weights\n",
        "\n",
        "true_classes = testgen.classes\n",
        "class_indices = traingen.class_indices\n",
        "class_indices = dict((v,k) for k,v in class_indices.items())\n",
        "\n",
        "vgg_preds_ft = vgg_model_ft.predict(testgen)\n",
        "vgg_pred_classes_ft = np.argmax(vgg_preds_ft, axis=1)"
      ],
      "metadata": {
        "id": "3MDNUkZ40LAu"
      },
      "execution_count": 9,
      "outputs": []
    },
    {
      "cell_type": "code",
      "source": [
        "from sklearn.metrics import accuracy_score\n",
        "\n",
        "vgg_acc = accuracy_score(true_classes, vgg_pred_classes_ft)\n",
        "print(\"VGG16 Model Accuracy with Fine-Tuning: {:.2f}%\".format(vgg_acc * 100))"
      ],
      "metadata": {
        "colab": {
          "base_uri": "https://localhost:8080/"
        },
        "id": "ZAywUuEi3TdD",
        "outputId": "7d8f6cc6-8bfa-43bb-efe1-3793f6177237"
      },
      "execution_count": 10,
      "outputs": [
        {
          "output_type": "stream",
          "name": "stdout",
          "text": [
            "VGG16 Model Accuracy with Fine-Tuning: 88.10%\n"
          ]
        }
      ]
    },
    {
      "cell_type": "code",
      "source": [
        ""
      ],
      "metadata": {
        "id": "nuyjvf4jhv21"
      },
      "execution_count": null,
      "outputs": []
    }
  ]
}