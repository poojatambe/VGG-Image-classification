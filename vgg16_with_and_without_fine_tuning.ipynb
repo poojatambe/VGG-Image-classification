{
  "nbformat": 4,
  "nbformat_minor": 0,
  "metadata": {
    "colab": {
      "name": "vgg16_with_and_without_fine_tuning.ipynb",
      "provenance": [],
      "collapsed_sections": [],
      "mount_file_id": "11W0AB1TU9SrOmgS0S1HowW-2nG0cYYOu",
      "authorship_tag": "ABX9TyOo0H5WKOKgYtCsZC0K8P7g",
      "include_colab_link": true
    },
    "kernelspec": {
      "name": "python3",
      "display_name": "Python 3"
    },
    "language_info": {
      "name": "python"
    },
    "accelerator": "GPU"
  },
  "cells": [
    {
      "cell_type": "markdown",
      "metadata": {
        "id": "view-in-github",
        "colab_type": "text"
      },
      "source": [
        "<a href=\"https://colab.research.google.com/github/poojatambe/VGG-Image-classification/blob/main/vgg16_with_and_without_fine_tuning.ipynb\" target=\"_parent\"><img src=\"https://colab.research.google.com/assets/colab-badge.svg\" alt=\"Open In Colab\"/></a>"
      ]
    },
    {
      "cell_type": "markdown",
      "source": [
        "## Import libraries"
      ],
      "metadata": {
        "id": "b2OCYfFK8YCc"
      }
    },
    {
      "cell_type": "code",
      "source": [
        "!pip install livelossplot"
      ],
      "metadata": {
        "id": "e1is28uY-3cx"
      },
      "execution_count": null,
      "outputs": []
    },
    {
      "cell_type": "code",
      "source": [
        "from keras.applications.vgg16 import VGG16\n",
        "import os\n",
        "import glob\n",
        "import pandas as pd\n",
        "import cv2\n",
        "import matplotlib.pyplot as plt\n",
        "import numpy as np\n",
        "from keras.models import Model\n",
        "import tensorflow as tf\n",
        "from tensorflow.keras.optimizers import Adam\n",
        "from keras.applications.vgg16 import preprocess_input\n",
        "from keras.preprocessing.image import ImageDataGenerator\n",
        "from keras.callbacks import ModelCheckpoint, EarlyStopping\n",
        "from keras.layers import Dense, Dropout, Flatten\n",
        "from livelossplot.inputs.keras import PlotLossesCallback"
      ],
      "metadata": {
        "id": "hYWH9lRc-UlT"
      },
      "execution_count": 1,
      "outputs": []
    },
    {
      "cell_type": "code",
      "source": [
        "!nvidia-smi"
      ],
      "metadata": {
        "colab": {
          "base_uri": "https://localhost:8080/"
        },
        "id": "yn7mneGi-bUY",
        "outputId": "6b72a33e-7fa3-4d64-adec-74f627a30315"
      },
      "execution_count": 2,
      "outputs": [
        {
          "output_type": "stream",
          "name": "stdout",
          "text": [
            "Thu May  5 07:02:24 2022       \n",
            "+-----------------------------------------------------------------------------+\n",
            "| NVIDIA-SMI 460.32.03    Driver Version: 460.32.03    CUDA Version: 11.2     |\n",
            "|-------------------------------+----------------------+----------------------+\n",
            "| GPU  Name        Persistence-M| Bus-Id        Disp.A | Volatile Uncorr. ECC |\n",
            "| Fan  Temp  Perf  Pwr:Usage/Cap|         Memory-Usage | GPU-Util  Compute M. |\n",
            "|                               |                      |               MIG M. |\n",
            "|===============================+======================+======================|\n",
            "|   0  Tesla K80           Off  | 00000000:00:04.0 Off |                    0 |\n",
            "| N/A   32C    P8    27W / 149W |      0MiB / 11441MiB |      0%      Default |\n",
            "|                               |                      |                  N/A |\n",
            "+-------------------------------+----------------------+----------------------+\n",
            "                                                                               \n",
            "+-----------------------------------------------------------------------------+\n",
            "| Processes:                                                                  |\n",
            "|  GPU   GI   CI        PID   Type   Process name                  GPU Memory |\n",
            "|        ID   ID                                                   Usage      |\n",
            "|=============================================================================|\n",
            "|  No running processes found                                                 |\n",
            "+-----------------------------------------------------------------------------+\n"
          ]
        }
      ]
    },
    {
      "cell_type": "markdown",
      "source": [
        "## Data preparation"
      ],
      "metadata": {
        "id": "dbBLEXZZ8es_"
      }
    },
    {
      "cell_type": "code",
      "source": [
        "!unzip '/content/drive/MyDrive/vgg/seg_test.zip' -d '/content'\n",
        "!unzip '/content/drive/MyDrive/vgg/seg_train.zip' -d '/content'"
      ],
      "metadata": {
        "id": "6dHZlhGu_nZS"
      },
      "execution_count": null,
      "outputs": []
    },
    {
      "cell_type": "code",
      "source": [
        "no_traindata={}\n",
        "no_testdata={}\n",
        "\n",
        "# train and test directories\n",
        "train_1= glob.glob('/content/seg_train/*')\n",
        "test_1= glob.glob('/content/seg_test/*')\n",
        "\n",
        "for i in train_1:\n",
        "    #print(glob.glob(str(i)+\"\\*\")[0:5])\n",
        "    no_traindata[i]= len(glob.glob(str(i)+\"/*\"))\n",
        "\n",
        "#print(no_traindata)\n",
        "\n",
        "for i in test_1:\n",
        "    #print(glob.glob(str(i)+\"\\*\")[0:5])\n",
        "    no_testdata[i]= len(glob.glob(str(i)+\"/*\"))\n",
        "\n",
        "#print(no_testdata)\n",
        "\n",
        "train_df= pd.DataFrame(no_traindata.items(), columns=['class', 'no_img'])\n",
        "print(train_df)\n",
        "\n",
        "test_df= pd.DataFrame(no_testdata.items(), columns=['class', 'no_img'])\n",
        "print(test_df)\n",
        "\n",
        "#visualise data\n",
        "plt.figure(figsize=(10,10))\n",
        "plt.barh(train_df['class'], train_df['no_img'], label='train')\n",
        "plt.barh(train_df['class'], test_df['no_img'], color='r', label='test')\n",
        "plt.legend()\n",
        "plt.show()"
      ],
      "metadata": {
        "colab": {
          "base_uri": "https://localhost:8080/",
          "height": 835
        },
        "id": "BQlwXVKH_Jwm",
        "outputId": "9c3377ca-8cef-4af9-a960-f8e6e135fb6c"
      },
      "execution_count": 4,
      "outputs": [
        {
          "output_type": "stream",
          "name": "stdout",
          "text": [
            "                          class  no_img\n",
            "0    /content/seg_train/glacier    1372\n",
            "1     /content/seg_train/street    1350\n",
            "2  /content/seg_train/buildings    1183\n",
            "3        /content/seg_train/sea    1242\n",
            "4     /content/seg_train/forest    1239\n",
            "5   /content/seg_train/mountain    1480\n",
            "                         class  no_img\n",
            "0    /content/seg_test/glacier     553\n",
            "1     /content/seg_test/street     501\n",
            "2  /content/seg_test/buildings     437\n",
            "3        /content/seg_test/sea     510\n",
            "4     /content/seg_test/forest     474\n",
            "5   /content/seg_test/mountain     525\n"
          ]
        },
        {
          "output_type": "display_data",
          "data": {
            "text/plain": [
              "<Figure size 720x720 with 1 Axes>"
            ],
            "image/png": "[encoded data removed]"
          },
          "metadata": {
            "needs_background": "light"
          }
        }
      ]
    },
    {
      "cell_type": "code",
      "source": [
        "\n",
        "#  data augmentation using ImageDataGenerator\n",
        "BATCH_SIZE = 64\n",
        "\n",
        "\n",
        "train_generator = ImageDataGenerator(rotation_range=90, \n",
        "                                     brightness_range=[0.1, 0.7],\n",
        "                                     width_shift_range=0.5, \n",
        "                                     height_shift_range=0.5,\n",
        "                                     horizontal_flip=True, \n",
        "                                     vertical_flip=True,\n",
        "                                     validation_split=0.15,\n",
        "                                     preprocessing_function=preprocess_input) # VGG16 preprocessing\n",
        "\n",
        "test_generator = ImageDataGenerator(preprocessing_function=preprocess_input) # VGG16 preprocessing\n",
        "\n",
        "\n",
        "#data preparation\n",
        "traingen = train_generator.flow_from_directory('/content/seg_train',\n",
        "                                               target_size=(224, 224),\n",
        "                                               class_mode='categorical',\n",
        "                                               subset='training',\n",
        "                                               batch_size=BATCH_SIZE, \n",
        "                                               shuffle=True,\n",
        "                                               seed=42)\n",
        "\n",
        "validgen = train_generator.flow_from_directory('/content/seg_train',\n",
        "                                               target_size=(224, 224),\n",
        "                                               class_mode='categorical',\n",
        "                                               subset='validation',\n",
        "                                               batch_size=BATCH_SIZE,\n",
        "                                               shuffle=True,\n",
        "                                               seed=42)\n",
        "\n",
        "testgen = test_generator.flow_from_directory('/content/seg_test',\n",
        "                                             target_size=(224, 224),\n",
        "                                             class_mode=None,\n",
        "                                             batch_size=1,\n",
        "                                             shuffle=False,\n",
        "                                             seed=42)"
      ],
      "metadata": {
        "colab": {
          "base_uri": "https://localhost:8080/"
        },
        "id": "v3WDePfbPuj-",
        "outputId": "d546dfb8-6ca7-4884-e6f2-8bafec48b292"
      },
      "execution_count": 5,
      "outputs": [
        {
          "output_type": "stream",
          "name": "stdout",
          "text": [
            "Found 6689 images belonging to 6 classes.\n",
            "Found 1177 images belonging to 6 classes.\n",
            "Found 3000 images belonging to 6 classes.\n"
          ]
        }
      ]
    },
    {
      "cell_type": "markdown",
      "source": [
        "# Image Classification Model\n",
        "\n",
        "\n",
        "\n",
        "*   The base model is created from VGG model. This is pre-trained on the ImageNet\n",
        "dataset, a large dataset consisting of 1.4M images and 1000 classes. ImageNet is a research training dataset with a wide variety of categories. \n",
        "*   The new classification fully connected layers are added to the base model.\n",
        "In this, we do not use pre-trained model's classification layers which is specified by **include_top=False**.\n",
        "\n",
        "\n",
        "*   The fine_tune parameter of the function is used to freeze layers of the pre-trained model.\n",
        "\n",
        "\n",
        "\n",
        "\n",
        "\n",
        "\n",
        "\n",
        "\n"
      ],
      "metadata": {
        "id": "RBv3JlKe8tgi"
      }
    },
    {
      "cell_type": "code",
      "source": [
        "# transfer learning without fine tuning\n",
        "def model(input_shape, n_classes, optimizer='adam', fine_tune=0):\n",
        "    \"\"\"\n",
        "    Complies a model integrated with vgg16 pretrained layers\n",
        "\n",
        "    Parameters\n",
        "    ------------------------\n",
        "    input_shape: tuple\n",
        "    shape of input images (width, height, channels)\n",
        "    n_classes: int\n",
        "    Number of classes for output layer\n",
        "    optimizer: string\n",
        "    Instantiated optimizer for training, default to adam\n",
        "    fine_tune: int\n",
        "    No of pretrained layers to unfreeze.\n",
        "    If set to 0, all layers will freeze during training\n",
        "\n",
        "    Return\n",
        "    -------------------------------\n",
        "    model: compiled model\n",
        "\n",
        "    \"\"\"\n",
        "    \n",
        "    # pretrained layers are added. Include_top is set to false, in order to exclude model's fully connected layers.\n",
        "    conv_base = VGG16(weights='imagenet',\n",
        "                    include_top= False,\n",
        "                    input_shape=input_shape)\n",
        "    \n",
        "    # Defines how many layers to freeze.\n",
        "    # Layers in conv_base are changed from trainable to non-trainable based on fine_tune value. \n",
        "    if fine_tune > 0:\n",
        "        for layer in conv_base.layers[:-fine_tune]:\n",
        "            layer.trainable = False\n",
        "\n",
        "    else:\n",
        "        for layer in conv_base.layers:\n",
        "            layer.trainable =False\n",
        "                \n",
        "    # create fully-connected layers\n",
        "    top_model= conv_base.output\n",
        "    top_model= Flatten(name='flatten')(top_model)                \n",
        "    top_model= Dense(4096, activation='relu')(top_model)\n",
        "    top_model= Dense(1072, activation='relu')(top_model)\n",
        "    top_model= Dropout(0.2)(top_model)\n",
        "    output_layer= Dense(n_classes, activation='softmax')(top_model)\n",
        "\n",
        "    # group pretrained layers and fully connected layers.\n",
        "    model= Model(inputs= conv_base.input, outputs= output_layer)\n",
        "\n",
        "    #complies model \n",
        "    model.compile(optimizer=optimizer,\n",
        "                loss='categorical_crossentropy',\n",
        "                metrics=['accuracy'])\n",
        "    \n",
        "    return model"
      ],
      "metadata": {
        "id": "FFewMQM8P5qV"
      },
      "execution_count": 6,
      "outputs": []
    },
    {
      "cell_type": "markdown",
      "source": [
        "# Feature Extractor\n",
        "\n",
        "The fine_tune is set to 0, which freezes all layers of the pre-trained model."
      ],
      "metadata": {
        "id": "baZryej1_C6u"
      }
    },
    {
      "cell_type": "code",
      "source": [
        "#feature extractor converts 224x224x3 image into feature block of 7x7x512\n",
        "input_shape = (224, 224, 3)\n",
        "conv_base = VGG16(weights='imagenet',\n",
        "                    include_top= False,\n",
        "                    input_shape=input_shape)\n",
        "image_batch, label_batch = next(iter(traingen))\n",
        "feature_base= conv_base(image_batch)\n",
        "print(feature_base.shape)"
      ],
      "metadata": {
        "colab": {
          "base_uri": "https://localhost:8080/"
        },
        "id": "Yx0dbRu7Q3RT",
        "outputId": "8eb4e9fd-ee35-449e-e920-f9470554db2f"
      },
      "execution_count": 18,
      "outputs": [
        {
          "output_type": "stream",
          "name": "stdout",
          "text": [
            "(64, 7, 7, 512)\n"
          ]
        }
      ]
    },
    {
      "cell_type": "code",
      "source": [
        "\n",
        "# Model without fine tuning\n",
        "input_shape = (224, 224, 3)\n",
        "optim_1 = Adam(learning_rate=0.0001)\n",
        "n_classes=6\n",
        "\n",
        "n_steps = traingen.samples // BATCH_SIZE\n",
        "n_val_steps = validgen.samples // BATCH_SIZE\n",
        "n_epochs = 10\n",
        "print('Steps', n_steps, n_val_steps)\n",
        "\n",
        "# First we'll train the model without Fine-tuning\n",
        "vgg_model = model(input_shape, n_classes, optim_1, fine_tune=0)\n",
        "\n",
        "#Model summary\n",
        "vgg_model.summary()"
      ],
      "metadata": {
        "colab": {
          "base_uri": "https://localhost:8080/"
        },
        "id": "GmzP2_SBQR-w",
        "outputId": "be8a56ee-e009-473d-afb1-f719584eb09d"
      },
      "execution_count": 8,
      "outputs": [
        {
          "output_type": "stream",
          "name": "stdout",
          "text": [
            "Steps 104 18\n",
            "Model: \"model_1\"\n",
            "_________________________________________________________________\n",
            " Layer (type)                Output Shape              Param #   \n",
            "=================================================================\n",
            " input_2 (InputLayer)        [(None, 224, 224, 3)]     0         \n",
            "                                                                 \n",
            " block1_conv1 (Conv2D)       (None, 224, 224, 64)      1792      \n",
            "                                                                 \n",
            " block1_conv2 (Conv2D)       (None, 224, 224, 64)      36928     \n",
            "                                                                 \n",
            " block1_pool (MaxPooling2D)  (None, 112, 112, 64)      0         \n",
            "                                                                 \n",
            " block2_conv1 (Conv2D)       (None, 112, 112, 128)     73856     \n",
            "                                                                 \n",
            " block2_conv2 (Conv2D)       (None, 112, 112, 128)     147584    \n",
            "                                                                 \n",
            " block2_pool (MaxPooling2D)  (None, 56, 56, 128)       0         \n",
            "                                                                 \n",
            " block3_conv1 (Conv2D)       (None, 56, 56, 256)       295168    \n",
            "                                                                 \n",
            " block3_conv2 (Conv2D)       (None, 56, 56, 256)       590080    \n",
            "                                                                 \n",
            " block3_conv3 (Conv2D)       (None, 56, 56, 256)       590080    \n",
            "                                                                 \n",
            " block3_pool (MaxPooling2D)  (None, 28, 28, 256)       0         \n",
            "                                                                 \n",
            " block4_conv1 (Conv2D)       (None, 28, 28, 512)       1180160   \n",
            "                                                                 \n",
            " block4_conv2 (Conv2D)       (None, 28, 28, 512)       2359808   \n",
            "                                                                 \n",
            " block4_conv3 (Conv2D)       (None, 28, 28, 512)       2359808   \n",
            "                                                                 \n",
            " block4_pool (MaxPooling2D)  (None, 14, 14, 512)       0         \n",
            "                                                                 \n",
            " block5_conv1 (Conv2D)       (None, 14, 14, 512)       2359808   \n",
            "                                                                 \n",
            " block5_conv2 (Conv2D)       (None, 14, 14, 512)       2359808   \n",
            "                                                                 \n",
            " block5_conv3 (Conv2D)       (None, 14, 14, 512)       2359808   \n",
            "                                                                 \n",
            " block5_pool (MaxPooling2D)  (None, 7, 7, 512)         0         \n",
            "                                                                 \n",
            " flatten (Flatten)           (None, 25088)             0         \n",
            "                                                                 \n",
            " dense_3 (Dense)             (None, 4096)              102764544 \n",
            "                                                                 \n",
            " dense_4 (Dense)             (None, 1072)              4391984   \n",
            "                                                                 \n",
            " dropout_1 (Dropout)         (None, 1072)              0         \n",
            "                                                                 \n",
            " dense_5 (Dense)             (None, 6)                 6438      \n",
            "                                                                 \n",
            "=================================================================\n",
            "Total params: 121,877,654\n",
            "Trainable params: 107,162,966\n",
            "Non-trainable params: 14,714,688\n",
            "_________________________________________________________________\n"
          ]
        }
      ]
    },
    {
      "cell_type": "code",
      "execution_count": 9,
      "metadata": {
        "colab": {
          "base_uri": "https://localhost:8080/",
          "height": 706
        },
        "id": "XR61C5fB5zWB",
        "outputId": "cb9d22d5-f29a-48b0-9a74-73be23d12fcf"
      },
      "outputs": [
        {
          "output_type": "display_data",
          "data": {
            "text/plain": [
              "<Figure size 864x576 with 2 Axes>"
            ],
            "image/png": "[encoded data removed]"
          },
          "metadata": {
            "needs_background": "light"
          }
        },
        {
          "output_type": "stream",
          "name": "stdout",
          "text": [
            "accuracy\n",
            "\ttraining         \t (min:    0.582, max:    0.757, cur:    0.757)\n",
            "\tvalidation       \t (min:    0.685, max:    0.780, cur:    0.780)\n",
            "Loss\n",
            "\ttraining         \t (min:    0.625, max:    2.442, cur:    0.625)\n",
            "\tvalidation       \t (min:    0.616, max:    0.933, cur:    0.632)\n",
            "\b\b\b\b\b\b\b\b\b\b\b\b\b\b\b\b\b\b\b\b\b\b\b\b\b\b\b\b\b\b\b\b\b\b\b\b\b\b\b\b\b\b\b\b\b\b\b\b\b\b\b\b\b\b\b\b\b\b\b\b\b\b\b\b\b\b\b\b\b\b\b\b\b\b\b\b\b\b\b\b\b\b\b\b\r104/104 [==============================] - 141s 1s/step - loss: 0.6245 - accuracy: 0.7565 - val_loss: 0.6322 - val_accuracy: 0.7795\n"
          ]
        }
      ],
      "source": [
        "\n",
        "\n",
        "# callbacks\n",
        "\n",
        "plot_loss_1 = PlotLossesCallback()\n",
        "\n",
        "# ModelCheckpoint callback - save best weights\n",
        "tl_checkpoint_1 = ModelCheckpoint(filepath='/content/drive/MyDrive/vgg/model_feature.weights.best.hdf5',\n",
        "                                  save_best_only=True,\n",
        "                                  verbose=1)\n",
        "\n",
        "# EarlyStopping\n",
        "early_stop = EarlyStopping(monitor='val_loss',\n",
        "                           patience=3,\n",
        "                           restore_best_weights=True,\n",
        "                           mode='min')\n",
        "# tensorboard\n",
        "#tb_callback= tf.keras.callbacks.TensorBoard(log_dir='logs')\n",
        "\n",
        "\n",
        "# model training\n",
        "vgg_history = vgg_model.fit(traingen,\n",
        "                            batch_size=BATCH_SIZE,\n",
        "                            epochs=n_epochs,\n",
        "                            validation_data=validgen,\n",
        "                            steps_per_epoch=n_steps,\n",
        "                            validation_steps=n_val_steps,\n",
        "                            callbacks=[tl_checkpoint_1, early_stop, plot_loss_1],\n",
        "                            verbose=1)                           \n",
        "\n",
        "    \n",
        "\n"
      ]
    },
    {
      "cell_type": "code",
      "source": [
        "# Load the TensorBoard notebook extension\n",
        "#%load_ext tensorboard\n",
        "#%tensorboard --logdir logs"
      ],
      "metadata": {
        "id": "YXDtjrrcQdaC"
      },
      "execution_count": null,
      "outputs": []
    },
    {
      "cell_type": "code",
      "source": [
        "# Generate predictions\n",
        "vgg_model.load_weights('/content/drive/MyDrive/vgg/model_feature.weights.best.hdf5') # initialize the best trained weights\n",
        "\n",
        "true_classes = testgen.classes\n",
        "class_indices = traingen.class_indices\n",
        "print(class_indices)\n",
        "class_indices = dict((v,k) for k,v in class_indices.items())\n",
        "print(class_indices)\n",
        "\n",
        "vgg_preds = vgg_model.predict(testgen)\n",
        "vgg_pred_classes = np.argmax(vgg_preds, axis=1)"
      ],
      "metadata": {
        "id": "OIT6e5bjL587",
        "colab": {
          "base_uri": "https://localhost:8080/"
        },
        "outputId": "4923971b-94c2-42f6-c379-0a53fd61e0b8"
      },
      "execution_count": 12,
      "outputs": [
        {
          "output_type": "stream",
          "name": "stdout",
          "text": [
            "{'buildings': 0, 'forest': 1, 'glacier': 2, 'mountain': 3, 'sea': 4, 'street': 5}\n",
            "{0: 'buildings', 1: 'forest', 2: 'glacier', 3: 'mountain', 4: 'sea', 5: 'street'}\n"
          ]
        }
      ]
    },
    {
      "cell_type": "code",
      "source": [
        "from sklearn.metrics import accuracy_score\n",
        "\n",
        "vgg_acc = accuracy_score(true_classes, vgg_pred_classes)\n",
        "print(\"VGG16 Model Accuracy without Fine-Tuning: {:.2f}%\".format(vgg_acc * 100))"
      ],
      "metadata": {
        "colab": {
          "base_uri": "https://localhost:8080/"
        },
        "id": "Kgjl8jlkOJqY",
        "outputId": "de6f7ee8-cda4-4854-de94-4d6fd073aaee"
      },
      "execution_count": 13,
      "outputs": [
        {
          "output_type": "stream",
          "name": "stdout",
          "text": [
            "VGG16 Model Accuracy without Fine-Tuning: 85.00%\n"
          ]
        }
      ]
    },
    {
      "cell_type": "markdown",
      "source": [
        "# Fine Tuning\n",
        "\n",
        "The fine_tune is set to 2, which unfreezes last 2 layers of the pre_trained model and those 2 layers are used for training."
      ],
      "metadata": {
        "id": "losqHBfpNMAG"
      }
    },
    {
      "cell_type": "code",
      "source": [
        "# Reset our image data generators\n",
        "traingen.reset()\n",
        "validgen.reset()\n",
        "testgen.reset()\n",
        "\n",
        "n_steps = traingen.samples // BATCH_SIZE\n",
        "n_val_steps = validgen.samples // BATCH_SIZE\n",
        "n_epochs = 10\n",
        "print('Steps', n_steps, n_val_steps)\n",
        "\n",
        "\n",
        "input_shape = (224, 224, 3)\n",
        "n_classes= 6\n",
        "# Use a smaller learning rate\n",
        "optim_2 = Adam(learning_rate=0.0001)\n",
        "\n",
        "# Re-compile the model, this time leaving the last 2 layers unfrozen for Fine-Tuning\n",
        "vgg_model_ft = model(input_shape, n_classes, optim_2, fine_tune=2)\n",
        "\n",
        "#model summary\n",
        "vgg_model_ft.summary()"
      ],
      "metadata": {
        "id": "oMK3GUcAbLDf",
        "colab": {
          "base_uri": "https://localhost:8080/"
        },
        "outputId": "f227340a-d609-466b-a53e-0c894ee17fb3"
      },
      "execution_count": 19,
      "outputs": [
        {
          "output_type": "stream",
          "name": "stdout",
          "text": [
            "Steps 104 18\n",
            "Model: \"model_4\"\n",
            "_________________________________________________________________\n",
            " Layer (type)                Output Shape              Param #   \n",
            "=================================================================\n",
            " input_8 (InputLayer)        [(None, 224, 224, 3)]     0         \n",
            "                                                                 \n",
            " block1_conv1 (Conv2D)       (None, 224, 224, 64)      1792      \n",
            "                                                                 \n",
            " block1_conv2 (Conv2D)       (None, 224, 224, 64)      36928     \n",
            "                                                                 \n",
            " block1_pool (MaxPooling2D)  (None, 112, 112, 64)      0         \n",
            "                                                                 \n",
            " block2_conv1 (Conv2D)       (None, 112, 112, 128)     73856     \n",
            "                                                                 \n",
            " block2_conv2 (Conv2D)       (None, 112, 112, 128)     147584    \n",
            "                                                                 \n",
            " block2_pool (MaxPooling2D)  (None, 56, 56, 128)       0         \n",
            "                                                                 \n",
            " block3_conv1 (Conv2D)       (None, 56, 56, 256)       295168    \n",
            "                                                                 \n",
            " block3_conv2 (Conv2D)       (None, 56, 56, 256)       590080    \n",
            "                                                                 \n",
            " block3_conv3 (Conv2D)       (None, 56, 56, 256)       590080    \n",
            "                                                                 \n",
            " block3_pool (MaxPooling2D)  (None, 28, 28, 256)       0         \n",
            "                                                                 \n",
            " block4_conv1 (Conv2D)       (None, 28, 28, 512)       1180160   \n",
            "                                                                 \n",
            " block4_conv2 (Conv2D)       (None, 28, 28, 512)       2359808   \n",
            "                                                                 \n",
            " block4_conv3 (Conv2D)       (None, 28, 28, 512)       2359808   \n",
            "                                                                 \n",
            " block4_pool (MaxPooling2D)  (None, 14, 14, 512)       0         \n",
            "                                                                 \n",
            " block5_conv1 (Conv2D)       (None, 14, 14, 512)       2359808   \n",
            "                                                                 \n",
            " block5_conv2 (Conv2D)       (None, 14, 14, 512)       2359808   \n",
            "                                                                 \n",
            " block5_conv3 (Conv2D)       (None, 14, 14, 512)       2359808   \n",
            "                                                                 \n",
            " block5_pool (MaxPooling2D)  (None, 7, 7, 512)         0         \n",
            "                                                                 \n",
            " flatten (Flatten)           (None, 25088)             0         \n",
            "                                                                 \n",
            " dense_12 (Dense)            (None, 4096)              102764544 \n",
            "                                                                 \n",
            " dense_13 (Dense)            (None, 1072)              4391984   \n",
            "                                                                 \n",
            " dropout_4 (Dropout)         (None, 1072)              0         \n",
            "                                                                 \n",
            " dense_14 (Dense)            (None, 6)                 6438      \n",
            "                                                                 \n",
            "=================================================================\n",
            "Total params: 121,877,654\n",
            "Trainable params: 109,522,774\n",
            "Non-trainable params: 12,354,880\n",
            "_________________________________________________________________\n"
          ]
        }
      ]
    },
    {
      "cell_type": "code",
      "source": [
        "# callbacks\n",
        "\n",
        "plot_loss_2 = PlotLossesCallback()\n",
        "\n",
        "# ModelCheckpoint callback - save best weights\n",
        "tl_checkpoint_1 = ModelCheckpoint(filepath='/content/drive/MyDrive/vgg/tune_model.weights.best.hdf5',\n",
        "                                  save_best_only=True,\n",
        "                                  verbose=1)\n",
        "\n",
        "# EarlyStopping\n",
        "early_stop = EarlyStopping(monitor='val_loss',\n",
        "                           patience=3,\n",
        "                           restore_best_weights=True,\n",
        "                           mode='min')\n",
        "\n",
        "# tensorboard\n",
        "#tb_callback= tf.keras.callbacks.TensorBoard(log_dir='logs/tune')\n",
        "\n",
        "# Retrain model with fine-tuning\n",
        "vgg_ft_history = vgg_model_ft.fit(traingen,\n",
        "                                  batch_size=BATCH_SIZE,\n",
        "                                  epochs=n_epochs,\n",
        "                                  validation_data=validgen,\n",
        "                                  steps_per_epoch=n_steps, \n",
        "                                  validation_steps=n_val_steps,\n",
        "                                  callbacks=[tl_checkpoint_1, early_stop,plot_loss_2 ],\n",
        "                                  verbose=1)"
      ],
      "metadata": {
        "colab": {
          "base_uri": "https://localhost:8080/",
          "height": 706
        },
        "id": "y-Foy5Liy2YR",
        "outputId": "3e723707-fb47-4bae-eac6-06ffd1f00fef"
      },
      "execution_count": 20,
      "outputs": [
        {
          "output_type": "display_data",
          "data": {
            "text/plain": [
              "<Figure size 864x576 with 2 Axes>"
            ],
            "image/png": "[encoded data removed]"
          },
          "metadata": {
            "needs_background": "light"
          }
        },
        {
          "output_type": "stream",
          "name": "stdout",
          "text": [
            "accuracy\n",
            "\ttraining         \t (min:    0.627, max:    0.828, cur:    0.828)\n",
            "\tvalidation       \t (min:    0.720, max:    0.826, cur:    0.826)\n",
            "Loss\n",
            "\ttraining         \t (min:    0.459, max:    1.806, cur:    0.459)\n",
            "\tvalidation       \t (min:    0.505, max:    0.790, cur:    0.515)\n",
            "\b\b\b\b\b\b\b\b\b\b\b\b\b\b\b\b\b\b\b\b\b\b\b\b\b\b\b\b\b\b\b\b\b\b\b\b\b\b\b\b\b\b\b\b\b\b\b\b\b\b\b\b\b\b\b\b\b\b\b\b\b\b\b\b\b\b\b\b\b\b\b\b\b\b\b\b\b\b\b\b\b\b\b\b\r104/104 [==============================] - 139s 1s/step - loss: 0.4592 - accuracy: 0.8278 - val_loss: 0.5145 - val_accuracy: 0.8255\n"
          ]
        }
      ]
    },
    {
      "cell_type": "code",
      "source": [
        "# Generate predictions\n",
        "vgg_model_ft.load_weights('/content/drive/MyDrive/vgg/tune_model.weights.best.hdf5') # initialize the best trained weights\n",
        "\n",
        "true_classes = testgen.classes\n",
        "class_indices = traingen.class_indices\n",
        "class_indices = dict((v,k) for k,v in class_indices.items())\n",
        "\n",
        "vgg_preds_ft = vgg_model_ft.predict(testgen)\n",
        "vgg_pred_classes_ft = np.argmax(vgg_preds_ft, axis=1)"
      ],
      "metadata": {
        "id": "3MDNUkZ40LAu"
      },
      "execution_count": 21,
      "outputs": []
    },
    {
      "cell_type": "code",
      "source": [
        "from sklearn.metrics import accuracy_score\n",
        "\n",
        "vgg_acc = accuracy_score(true_classes, vgg_pred_classes_ft)\n",
        "print(\"VGG16 Model Accuracy with Fine-Tuning: {:.2f}%\".format(vgg_acc * 100))"
      ],
      "metadata": {
        "colab": {
          "base_uri": "https://localhost:8080/"
        },
        "id": "ZAywUuEi3TdD",
        "outputId": "7e364de9-f0a5-47ef-f6a4-93198a579409"
      },
      "execution_count": 22,
      "outputs": [
        {
          "output_type": "stream",
          "name": "stdout",
          "text": [
            "VGG16 Model Accuracy with Fine-Tuning: 86.93%\n"
          ]
        }
      ]
    },
    {
      "cell_type": "code",
      "source": [
        ""
      ],
      "metadata": {
        "id": "lG4r_k-y4TYZ"
      },
      "execution_count": null,
      "outputs": []
    }
  ]
}